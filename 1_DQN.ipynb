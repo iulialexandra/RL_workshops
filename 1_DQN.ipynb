{
 "cells": [
  {
   "cell_type": "markdown",
   "metadata": {},
   "source": [
    "# 1. Tensorflow basics"
   ]
  },
  {
   "cell_type": "code",
   "execution_count": 45,
   "metadata": {
    "collapsed": true
   },
   "outputs": [],
   "source": [
    "import tensorflow as tf\n",
    "import numpy as np\n",
    "import gym\n",
    "import random\n",
    "from collections import deque\n",
    "import matplotlib.pyplot as plt\n",
    "\n",
    "%matplotlib inline"
   ]
  },
  {
   "cell_type": "markdown",
   "metadata": {},
   "source": [
    "\n",
    "#### In Tensorflow the computation graph has to be constructed before the actual computation can take place"
   ]
  },
  {
   "cell_type": "code",
   "execution_count": 2,
   "metadata": {
    "collapsed": true
   },
   "outputs": [],
   "source": [
    "# Hello world! in Tensorflow\n",
    "hello = tf.constant('Hello world!')"
   ]
  },
  {
   "cell_type": "code",
   "execution_count": 3,
   "metadata": {
    "collapsed": true
   },
   "outputs": [],
   "source": [
    "# start a Tensorflow session\n",
    "session = tf.Session()"
   ]
  },
  {
   "cell_type": "code",
   "execution_count": 4,
   "metadata": {},
   "outputs": [
    {
     "name": "stdout",
     "output_type": "stream",
     "text": [
      "Hello world!\n"
     ]
    }
   ],
   "source": [
    "# run the graph we just built\n",
    "# .decode() interprets the bytestring coming from tensorflow\n",
    "print(session.run(hello).decode())"
   ]
  },
  {
   "cell_type": "code",
   "execution_count": 5,
   "metadata": {},
   "outputs": [
    {
     "name": "stdout",
     "output_type": "stream",
     "text": [
      "Constant 1: 5 Constant 2: 10\n",
      "Addition result of the two constants: 15\n",
      "Multiplication result of the two constants: 50\n"
     ]
    }
   ],
   "source": [
    "# Basic constant operations\n",
    "# The value returned by the constructor represents the output\n",
    "# of the Constant op\n",
    "const1 = tf.constant(5)\n",
    "const2 = tf.constant(10)\n",
    "\n",
    "# Launch the default graph.\n",
    "with tf.Session() as sess:\n",
    "    print(\"Constant 1: {}\".format(sess.run(const1)), \"Constant 2: {}\".format(sess.run(const2)))\n",
    "    print(\"Addition result of the two constants: {}\".format(sess.run(const1+const2)))\n",
    "    print(\"Multiplication result of the two constants: {}\".format(sess.run(const1*const2)))"
   ]
  },
  {
   "cell_type": "code",
   "execution_count": 6,
   "metadata": {
    "collapsed": true
   },
   "outputs": [],
   "source": [
    "# replace constants with variables\n",
    "var1 = tf.placeholder(tf.int16)\n",
    "var2 = tf.placeholder(tf.int16)\n",
    "\n",
    "# define the addition and multiplication operations\n",
    "# these operations are defined in the graph, but not yet performed\n",
    "add = tf.add(var1, var2)\n",
    "multiply = tf.multiply(var1, var2)"
   ]
  },
  {
   "cell_type": "code",
   "execution_count": 7,
   "metadata": {},
   "outputs": [
    {
     "name": "stdout",
     "output_type": "stream",
     "text": [
      "Addition result of the two variables: 8\n",
      "Multiplication result of the two variables: 15\n"
     ]
    }
   ],
   "source": [
    "# To run the matmul op we call the session 'run()' method, passing 'add' or 'multiply'\n",
    "# which represents the output of the op defined above.\n",
    "#\n",
    "# All inputs needed by the op are run automatically by the session.  They\n",
    "# typically are run in parallel.\n",
    "#\n",
    "# The call 'run(multiply)' thus causes the execution of threes ops in the\n",
    "# graph: the two variables and the multiply op.\n",
    "#\n",
    "# The output of the op is returned in 'addition_result' as a numpy `ndarray` object.\n",
    "with tf.Session() as sess:\n",
    "    print(\"Addition result of the two variables: {}\".format(sess.run(add, feed_dict={var1:3, var2:5})))\n",
    "    print(\"Multiplication result of the two variables: {}\".format(sess.run(multiply, feed_dict={var1:3, var2:5})))\n",
    "\n"
   ]
  },
  {
   "cell_type": "code",
   "execution_count": 8,
   "metadata": {
    "collapsed": true
   },
   "outputs": [],
   "source": [
    "# Create a Constant op that produces a 1x2 matrix.  The op is\n",
    "# added as a node to the default graph.\n",
    "matrix1 = tf.constant([[3., 3.]])\n",
    "\n",
    "# Create another Constant that produces a 2x1 matrix.\n",
    "matrix2 = tf.constant([[2.],[2.]])"
   ]
  },
  {
   "cell_type": "code",
   "execution_count": 9,
   "metadata": {
    "collapsed": true
   },
   "outputs": [],
   "source": [
    "# Create a Matmul op that takes 'matrix1' and 'matrix2' as inputs.\n",
    "# The returned value, 'product', represents the result of the matrix\n",
    "# multiplication.\n",
    "matrix_product = tf.matmul(matrix1, matrix2)"
   ]
  },
  {
   "cell_type": "code",
   "execution_count": 10,
   "metadata": {},
   "outputs": [
    {
     "name": "stdout",
     "output_type": "stream",
     "text": [
      "Multiplication result of the two matrices: [[ 12.]]\n"
     ]
    }
   ],
   "source": [
    "# run the graph and get the result\n",
    "with tf.Session() as sess:\n",
    "    result = sess.run(matrix_product)\n",
    "    print(\"Multiplication result of the two matrices: {}\".format(sess.run(matrix_product)))\n",
    "\n"
   ]
  },
  {
   "cell_type": "markdown",
   "metadata": {},
   "source": [
    "# Implement Q-learning with a table"
   ]
  },
  {
   "cell_type": "code",
   "execution_count": 11,
   "metadata": {
    "collapsed": true
   },
   "outputs": [],
   "source": [
    "env = gym.make('FrozenLake-v0')"
   ]
  },
  {
   "cell_type": "code",
   "execution_count": 29,
   "metadata": {
    "collapsed": true
   },
   "outputs": [],
   "source": [
    "#Initialize table with all zeros\n",
    "Q = np.zeros([env.observation_space.n,env.action_space.n])\n",
    "# Set learning parameters\n",
    "learn_rate = .8\n",
    "gamma = .95\n",
    "num_episodes = 2000\n",
    "reward_list = []\n",
    "for i in range(num_episodes):\n",
    "    #Reset environment and get first new observation\n",
    "    state = env.reset()\n",
    "    reward_epoch = 0\n",
    "    done = False\n",
    "    ep_length = 0\n",
    "    #The Q-Table learning algorithm\n",
    "    while ep_length < 99:\n",
    "        ep_length += 1\n",
    "        #Choose an action by greedily (with noise) picking from Q table\n",
    "        action = np.argmax(Q[state,:] + np.random.randn(1,env.action_space.n)*(1./(i+1)))\n",
    "        #Get new state and reward from environment\n",
    "        new_state, reward, done,_ = env.step(action)\n",
    "        #Update Q-Table with new knowledge\n",
    "        Q[state,action] = Q[state,action] + learn_rate*(reward +\n",
    "                                                        gamma*np.max(Q[new_state,:]) - Q[state,action])\n",
    "        reward_epoch += reward\n",
    "        state = new_state\n",
    "        if done == True:\n",
    "            break\n",
    "    reward_list.append(reward_epoch)"
   ]
  },
  {
   "cell_type": "code",
   "execution_count": 30,
   "metadata": {},
   "outputs": [
    {
     "name": "stdout",
     "output_type": "stream",
     "text": [
      "Score over time: 0.421\n",
      "Final Q-Table Values [[  2.37457982e-01   3.52472482e-03   3.54791125e-03   5.30445001e-03]\n",
      " [  1.04265981e-05   5.42057100e-04   9.35469394e-05   1.86504535e-01]\n",
      " [  5.28666721e-03   2.82018444e-03   3.55754576e-03   1.84692923e-01]\n",
      " [  5.37791960e-04   9.82726395e-04   3.27262786e-05   7.20178745e-02]\n",
      " [  3.70764163e-01   6.14982445e-04   1.95538061e-04   1.11727184e-03]\n",
      " [  0.00000000e+00   0.00000000e+00   0.00000000e+00   0.00000000e+00]\n",
      " [  8.96517825e-03   2.96421132e-05   1.17340811e-04   1.71427181e-04]\n",
      " [  0.00000000e+00   0.00000000e+00   0.00000000e+00   0.00000000e+00]\n",
      " [  1.68669112e-03   1.36589976e-04   6.25918424e-06   6.52281499e-01]\n",
      " [  1.21789556e-03   3.17251534e-01   3.12622018e-03   1.53672862e-03]\n",
      " [  7.82383496e-02   0.00000000e+00   8.10360011e-04   5.77768872e-04]\n",
      " [  0.00000000e+00   0.00000000e+00   0.00000000e+00   0.00000000e+00]\n",
      " [  0.00000000e+00   0.00000000e+00   0.00000000e+00   0.00000000e+00]\n",
      " [  0.00000000e+00   1.99899287e-04   8.53983498e-01   0.00000000e+00]\n",
      " [  0.00000000e+00   6.43556538e-03   0.00000000e+00   9.77088326e-01]\n",
      " [  0.00000000e+00   0.00000000e+00   0.00000000e+00   0.00000000e+00]]\n"
     ]
    }
   ],
   "source": [
    "print(\"Score over time: \" +  str(sum(reward_list)/num_episodes))\n",
    "print(\"Final Q-Table Values\", Q)"
   ]
  },
  {
   "cell_type": "code",
   "execution_count": 31,
   "metadata": {},
   "outputs": [
    {
     "name": "stdout",
     "output_type": "stream",
     "text": [
      "2000\n"
     ]
    }
   ],
   "source": [
    "print(len(reward_list))"
   ]
  },
  {
   "cell_type": "code",
   "execution_count": 32,
   "metadata": {},
   "outputs": [
    {
     "data": {
      "text/plain": [
       "[<matplotlib.lines.Line2D at 0x12275afd0>]"
      ]
     },
     "execution_count": 32,
     "metadata": {},
     "output_type": "execute_result"
    },
    {
     "data": {
      "image/png": "[encoded data removed]",
      "text/plain": [
       "<matplotlib.figure.Figure at 0x121b04dd8>"
      ]
     },
     "metadata": {},
     "output_type": "display_data"
    }
   ],
   "source": [
    "plt.plot(reward_list)"
   ]
  },
  {
   "cell_type": "markdown",
   "metadata": {},
   "source": [
    "# Implement Q-learning with a neural network"
   ]
  },
  {
   "cell_type": "code",
   "execution_count": 25,
   "metadata": {
    "collapsed": true
   },
   "outputs": [],
   "source": [
    "env = gym.make('FrozenLake-v0')"
   ]
  },
  {
   "cell_type": "code",
   "execution_count": 26,
   "metadata": {
    "collapsed": true
   },
   "outputs": [],
   "source": [
    "tf.reset_default_graph()"
   ]
  },
  {
   "cell_type": "code",
   "execution_count": 27,
   "metadata": {
    "collapsed": true
   },
   "outputs": [],
   "source": [
    "#These lines establish the feed-forward part of the network used to choose actions\n",
    "inputs = tf.placeholder(shape=[1,16],dtype=tf.float32)\n",
    "W = tf.Variable(tf.random_uniform([16,4],0,0.01))\n",
    "Qout = tf.matmul(inputs, W)\n",
    "predict = tf.argmax(Qout, 1)\n",
    "\n",
    "#Below we obtain the loss by taking the sum of squares difference between the target and prediction Q values.\n",
    "nextQ = tf.placeholder(shape=[1,4], dtype=tf.float32)\n",
    "loss = tf.reduce_sum(tf.square(nextQ - Qout))\n",
    "trainer = tf.train.GradientDescentOptimizer(learning_rate=0.1)\n",
    "updateModel = trainer.minimize(loss)"
   ]
  },
  {
   "cell_type": "code",
   "execution_count": 37,
   "metadata": {},
   "outputs": [
    {
     "name": "stdout",
     "output_type": "stream",
     "text": [
      "WARNING:tensorflow:From /Users/waylana/anaconda/lib/python3.6/site-packages/tensorflow/python/util/tf_should_use.py:175: initialize_all_variables (from tensorflow.python.ops.variables) is deprecated and will be removed after 2017-03-02.\n",
      "Instructions for updating:\n",
      "Use `tf.global_variables_initializer` instead.\n",
      "Percent of succesful episodes: 0.0985%\n"
     ]
    }
   ],
   "source": [
    "init = tf.initialize_all_variables()\n",
    "\n",
    "# Set learning parameters\n",
    "gamma = .99\n",
    "epsilon = 0.1\n",
    "num_episodes = 2000\n",
    "#create lists to contain total rewards and steps per episode\n",
    "step_list = []\n",
    "reward_list = []\n",
    "with tf.Session() as sess:\n",
    "    sess.run(init)\n",
    "    for i in range(num_episodes):\n",
    "        #Reset environment and get first new observation\n",
    "        state = env.reset()\n",
    "        reward_episode = 0\n",
    "        done = False\n",
    "        ep_length = 0\n",
    "        #The Q-Network\n",
    "        while ep_length < 99:\n",
    "            ep_length+=1\n",
    "            #Choose an action by greedily (with epsilon chance of random action) from the Q-network\n",
    "            action, allQ = sess.run([predict, Qout], feed_dict={inputs:np.identity(16)[state:state+1]})\n",
    "            if np.random.rand(1) < epsilon:\n",
    "                action[0] = env.action_space.sample()\n",
    "            #Get new state and reward from environment\n",
    "            new_state, reward, done,_ = env.step(action[0])\n",
    "            #Obtain the Q' values by feeding the new state through our network\n",
    "            Q1 = sess.run(Qout,feed_dict={inputs:np.identity(16)[new_state:new_state+1]})\n",
    "            #Obtain maxQ' and set our target value for chosen action.\n",
    "            maxQ1 = np.max(Q1)\n",
    "            targetQ = allQ\n",
    "            targetQ[0, action[0]] = reward + gamma*maxQ1\n",
    "            #Train our network using target and predicted Q values\n",
    "            _,W1 = sess.run([updateModel,W],feed_dict={inputs:np.identity(16)[state:state+1],nextQ:targetQ})\n",
    "            reward_episode += reward\n",
    "            state = new_state\n",
    "            if done == True:\n",
    "                #Reduce chance of random action as we train the model.\n",
    "                epsilon = 1./((i/50) + 10)\n",
    "                break\n",
    "        step_list.append(ep_length)\n",
    "        reward_list.append(reward_episode)\n",
    "print(\"Percent of succesful episodes: {}%\".format(str(sum(reward_list)/num_episodes)))"
   ]
  },
  {
   "cell_type": "code",
   "execution_count": 39,
   "metadata": {},
   "outputs": [
    {
     "data": {
      "text/plain": [
       "[<matplotlib.lines.Line2D at 0x122be7e10>]"
      ]
     },
     "execution_count": 39,
     "metadata": {},
     "output_type": "execute_result"
    },
    {
     "data": {
      "image/png": "[encoded data removed]",
      "text/plain": [
       "<matplotlib.figure.Figure at 0x121feaf98>"
      ]
     },
     "metadata": {},
     "output_type": "display_data"
    }
   ],
   "source": [
    "plt.plot(reward_list)"
   ]
  },
  {
   "cell_type": "code",
   "execution_count": 40,
   "metadata": {},
   "outputs": [
    {
     "data": {
      "text/plain": [
       "[<matplotlib.lines.Line2D at 0x122dee048>]"
      ]
     },
     "execution_count": 40,
     "metadata": {},
     "output_type": "execute_result"
    },
    {
     "data": {
      "image/png": "[encoded data removed]",
      "text/plain": [
       "<matplotlib.figure.Figure at 0x122bff9b0>"
      ]
     },
     "metadata": {},
     "output_type": "display_data"
    }
   ],
   "source": [
    "plt.plot(step_list)"
   ]
  },
  {
   "cell_type": "markdown",
   "metadata": {},
   "source": [
    "# Solving CartPole with DQN "
   ]
  },
  {
   "cell_type": "code",
   "execution_count": 1,
   "metadata": {
    "collapsed": true
   },
   "outputs": [],
   "source": [
    "class Network:\n",
    "    \"\"\"\n",
    "    Build the network that calculates the Q-values\n",
    "    \"\"\"\n",
    "    \n",
    "    def __init__(self):\n",
    "        pass"
   ]
  },
  {
   "cell_type": "code",
   "execution_count": 2,
   "metadata": {
    "collapsed": true
   },
   "outputs": [],
   "source": [
    "class ExperienceReplay: \n",
    "    \"\"\"\n",
    "    Store experiences and use them for training\n",
    "    \"\"\"\n",
    "    def __init__(self):\n",
    "        pass"
   ]
  },
  {
   "cell_type": "code",
   "execution_count": 68,
   "metadata": {
    "collapsed": true
   },
   "outputs": [],
   "source": [
    "class Agent:\n",
    "    \"\"\"\n",
    "    Build the agent that learns to solve the problem\n",
    "    \"\"\"\n",
    "    def __init__(self, stateCnt, actionCnt):\n",
    "        pass\n",
    "        \n",
    "    def train(self):\n",
    "        pass"
   ]
  },
  {
   "cell_type": "code",
   "execution_count": 70,
   "metadata": {
    "collapsed": true
   },
   "outputs": [],
   "source": [
    "class Environment:\n",
    "    \"\"\"\n",
    "    Build the environment in which the agent performs\n",
    "    \"\"\"\n",
    "    def __init__(self):\n",
    "        pass"
   ]
  },
  {
   "cell_type": "code",
   "execution_count": null,
   "metadata": {
    "collapsed": true
   },
   "outputs": [],
   "source": [
    "MEMORY_CAPACITY = 100000\n",
    "BATCH_SIZE = 64\n",
    "\n",
    "GAMMA = 0.99\n",
    "\n",
    "MAX_EPSILON = 1\n",
    "MIN_EPSILON = 0.01\n",
    "LAMBDA = 0.001 \n",
    "\n",
    "PROBLEM = 'CartPole-v0'\n",
    "env = Environment(PROBLEM)\n",
    "\n",
    "state_shape  = env.env.observation_space.shape[0]\n",
    "action_shape = env.env.action_space.n\n",
    "\n",
    "agent = Agent(state_shape, action_shape)\n",
    "\n",
    "while True:\n",
    "    agent.train(agent)\n"
   ]
  }
 ],
 "metadata": {
  "kernelspec": {
   "display_name": "Python 3",
   "language": "python",
   "name": "python3"
  },
  "language_info": {
   "codemirror_mode": {
    "name": "ipython",
    "version": 3
   },
   "file_extension": ".py",
   "mimetype": "text/x-python",
   "name": "python",
   "nbconvert_exporter": "python",
   "pygments_lexer": "ipython3",
   "version": "3.6.0"
  }
 },
 "nbformat": 4,
 "nbformat_minor": 2
}
